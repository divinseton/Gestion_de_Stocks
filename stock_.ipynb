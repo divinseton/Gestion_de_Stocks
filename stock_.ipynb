{
 "cells": [
  {
   "cell_type": "code",
   "execution_count": 5,
   "id": "38c2c7fc-5df9-4c74-b282-8ab66a5b58fd",
   "metadata": {},
   "outputs": [
    {
     "name": "stdout",
     "output_type": "stream",
     "text": [
      "reusir\n"
     ]
    }
   ],
   "source": [
    "#Importation des module\n",
    "import pandas as pd\n",
    "from sqlalchemy import create_engine\n",
    "#Connexion à la base de donnée\n",
    "engine = create_engine('mysql+pymysql://root:@localhost/db_gestion_stock')\n",
    "# Charger le fichier CSV\n",
    "db= pd.read_csv(r'C:\\Users\\LAB-MND\\Desktop\\divin\\detail_inventaire.csv', sep=',', quotechar=\"'\",encoding='utf8')\n",
    "db.to_sql('gestionstock',con=engine,index=False,if_exists='append')\n",
    "print(\"Chargement réussir\")"
   ]
  },
  {
   "cell_type": "code",
   "execution_count": null,
   "id": "07ac330d-49ca-4841-b131-124bac5447bf",
   "metadata": {},
   "outputs": [],
   "source": []
  }
 ],
 "metadata": {
  "kernelspec": {
   "display_name": "Python 3 (ipykernel)",
   "language": "python",
   "name": "python3"
  },
  "language_info": {
   "codemirror_mode": {
    "name": "ipython",
    "version": 3
   },
   "file_extension": ".py",
   "mimetype": "text/x-python",
   "name": "python",
   "nbconvert_exporter": "python",
   "pygments_lexer": "ipython3",
   "version": "3.11.5"
  }
 },
 "nbformat": 4,
 "nbformat_minor": 5
}
